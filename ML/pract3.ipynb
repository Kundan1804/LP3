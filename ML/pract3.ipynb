{
 "cells": [
  {
   "cell_type": "code",
   "execution_count": null,
   "id": "d7a5ed34",
   "metadata": {
    "execution": {
     "iopub.execute_input": "2023-09-26T15:13:46.976408Z",
     "iopub.status.busy": "2023-09-26T15:13:46.975094Z",
     "iopub.status.idle": "2023-09-26T15:13:48.713729Z",
     "shell.execute_reply": "2023-09-26T15:13:48.712492Z"
    },
    "papermill": {
     "duration": 1.753316,
     "end_time": "2023-09-26T15:13:48.716914",
     "exception": false,
     "start_time": "2023-09-26T15:13:46.963598",
     "status": "completed"
    },
    "tags": []
   },
   "outputs": [],
   "source": [
    "import pandas as pd\n",
    "import numpy as np\n",
    "import seaborn as sns\n",
    "import matplotlib.pyplot as plt\n",
    "%matplotlib inline"
   ]
  },
  {
   "cell_type": "code",
   "execution_count": null,
   "id": "a8ca0e41",
   "metadata": {
    "execution": {
     "iopub.execute_input": "2023-09-26T15:13:48.739474Z",
     "iopub.status.busy": "2023-09-26T15:13:48.739044Z",
     "iopub.status.idle": "2023-09-26T15:13:48.758863Z",
     "shell.execute_reply": "2023-09-26T15:13:48.757468Z"
    },
    "papermill": {
     "duration": 0.034363,
     "end_time": "2023-09-26T15:13:48.761838",
     "exception": false,
     "start_time": "2023-09-26T15:13:48.727475",
     "status": "completed"
    },
    "tags": []
   },
   "outputs": [],
   "source": [
    "data = pd.read_csv('diabetes.csv')"
   ]
  },
  {
   "cell_type": "code",
   "execution_count": null,
   "id": "b87623ca",
   "metadata": {
    "execution": {
     "iopub.execute_input": "2023-09-26T15:13:48.784033Z",
     "iopub.status.busy": "2023-09-26T15:13:48.783656Z",
     "iopub.status.idle": "2023-09-26T15:13:48.810320Z",
     "shell.execute_reply": "2023-09-26T15:13:48.809152Z"
    },
    "papermill": {
     "duration": 0.04059,
     "end_time": "2023-09-26T15:13:48.812810",
     "exception": false,
     "start_time": "2023-09-26T15:13:48.772220",
     "status": "completed"
    },
    "tags": []
   },
   "outputs": [],
   "source": [
    "data.head()"
   ]
  },
  {
   "cell_type": "code",
   "execution_count": null,
   "id": "06f3cda7",
   "metadata": {
    "execution": {
     "iopub.execute_input": "2023-09-26T15:13:48.835791Z",
     "iopub.status.busy": "2023-09-26T15:13:48.835115Z",
     "iopub.status.idle": "2023-09-26T15:13:48.848180Z",
     "shell.execute_reply": "2023-09-26T15:13:48.846945Z"
    },
    "papermill": {
     "duration": 0.027359,
     "end_time": "2023-09-26T15:13:48.850747",
     "exception": false,
     "start_time": "2023-09-26T15:13:48.823388",
     "status": "completed"
    },
    "tags": []
   },
   "outputs": [],
   "source": [
    "data.corr()['Outcome']"
   ]
  },
  {
   "cell_type": "code",
   "execution_count": null,
   "id": "41888f29",
   "metadata": {
    "execution": {
     "iopub.execute_input": "2023-09-26T15:13:48.874248Z",
     "iopub.status.busy": "2023-09-26T15:13:48.873897Z",
     "iopub.status.idle": "2023-09-26T15:13:49.569680Z",
     "shell.execute_reply": "2023-09-26T15:13:49.568749Z"
    },
    "papermill": {
     "duration": 0.710775,
     "end_time": "2023-09-26T15:13:49.572530",
     "exception": false,
     "start_time": "2023-09-26T15:13:48.861755",
     "status": "completed"
    },
    "tags": []
   },
   "outputs": [],
   "source": [
    "sns.heatmap(data.corr(), annot=True)"
   ]
  },
  {
   "cell_type": "code",
   "execution_count": null,
   "id": "10b1838b",
   "metadata": {
    "execution": {
     "iopub.execute_input": "2023-09-26T15:13:49.599720Z",
     "iopub.status.busy": "2023-09-26T15:13:49.598591Z",
     "iopub.status.idle": "2023-09-26T15:13:49.609946Z",
     "shell.execute_reply": "2023-09-26T15:13:49.609021Z"
    },
    "papermill": {
     "duration": 0.027626,
     "end_time": "2023-09-26T15:13:49.612506",
     "exception": false,
     "start_time": "2023-09-26T15:13:49.584880",
     "status": "completed"
    },
    "tags": []
   },
   "outputs": [],
   "source": [
    "X = data.drop('Outcome', axis=1)"
   ]
  },
  {
   "cell_type": "code",
   "execution_count": null,
   "id": "8bc702db",
   "metadata": {
    "execution": {
     "iopub.execute_input": "2023-09-26T15:13:49.640340Z",
     "iopub.status.busy": "2023-09-26T15:13:49.639077Z",
     "iopub.status.idle": "2023-09-26T15:13:49.644075Z",
     "shell.execute_reply": "2023-09-26T15:13:49.643257Z"
    },
    "papermill": {
     "duration": 0.021525,
     "end_time": "2023-09-26T15:13:49.646378",
     "exception": false,
     "start_time": "2023-09-26T15:13:49.624853",
     "status": "completed"
    },
    "tags": []
   },
   "outputs": [],
   "source": [
    "y = data['Outcome']"
   ]
  },
  {
   "cell_type": "code",
   "execution_count": null,
   "id": "7285131c",
   "metadata": {
    "execution": {
     "iopub.execute_input": "2023-09-26T15:13:49.673598Z",
     "iopub.status.busy": "2023-09-26T15:13:49.672755Z",
     "iopub.status.idle": "2023-09-26T15:13:50.002592Z",
     "shell.execute_reply": "2023-09-26T15:13:50.001197Z"
    },
    "papermill": {
     "duration": 0.346614,
     "end_time": "2023-09-26T15:13:50.005396",
     "exception": false,
     "start_time": "2023-09-26T15:13:49.658782",
     "status": "completed"
    },
    "tags": []
   },
   "outputs": [],
   "source": [
    "from sklearn.model_selection import train_test_split"
   ]
  },
  {
   "cell_type": "code",
   "execution_count": null,
   "id": "3870907b",
   "metadata": {
    "execution": {
     "iopub.execute_input": "2023-09-26T15:13:50.033121Z",
     "iopub.status.busy": "2023-09-26T15:13:50.032681Z",
     "iopub.status.idle": "2023-09-26T15:13:50.041661Z",
     "shell.execute_reply": "2023-09-26T15:13:50.040547Z"
    },
    "papermill": {
     "duration": 0.025448,
     "end_time": "2023-09-26T15:13:50.044466",
     "exception": false,
     "start_time": "2023-09-26T15:13:50.019018",
     "status": "completed"
    },
    "tags": []
   },
   "outputs": [],
   "source": [
    "X_train, X_test, y_train, y_test = train_test_split(X, y, test_size=0.3, random_state=42)"
   ]
  },
  {
   "cell_type": "code",
   "execution_count": null,
   "id": "ae45dbb3",
   "metadata": {
    "execution": {
     "iopub.execute_input": "2023-09-26T15:13:50.070726Z",
     "iopub.status.busy": "2023-09-26T15:13:50.070304Z",
     "iopub.status.idle": "2023-09-26T15:13:50.076156Z",
     "shell.execute_reply": "2023-09-26T15:13:50.074749Z"
    },
    "papermill": {
     "duration": 0.021721,
     "end_time": "2023-09-26T15:13:50.078528",
     "exception": false,
     "start_time": "2023-09-26T15:13:50.056807",
     "status": "completed"
    },
    "tags": []
   },
   "outputs": [],
   "source": [
    "from sklearn.preprocessing import StandardScaler"
   ]
  },
  {
   "cell_type": "code",
   "execution_count": null,
   "id": "cad4e07c",
   "metadata": {
    "execution": {
     "iopub.execute_input": "2023-09-26T15:13:50.104904Z",
     "iopub.status.busy": "2023-09-26T15:13:50.104477Z",
     "iopub.status.idle": "2023-09-26T15:13:50.382708Z",
     "shell.execute_reply": "2023-09-26T15:13:50.381456Z"
    },
    "papermill": {
     "duration": 0.294826,
     "end_time": "2023-09-26T15:13:50.385576",
     "exception": false,
     "start_time": "2023-09-26T15:13:50.090750",
     "status": "completed"
    },
    "tags": []
   },
   "outputs": [],
   "source": [
    "from sklearn.neighbors import KNeighborsClassifier"
   ]
  },
  {
   "cell_type": "code",
   "execution_count": null,
   "id": "fd9d3021",
   "metadata": {
    "execution": {
     "iopub.execute_input": "2023-09-26T15:13:50.412890Z",
     "iopub.status.busy": "2023-09-26T15:13:50.412181Z",
     "iopub.status.idle": "2023-09-26T15:13:50.416650Z",
     "shell.execute_reply": "2023-09-26T15:13:50.415814Z"
    },
    "papermill": {
     "duration": 0.02044,
     "end_time": "2023-09-26T15:13:50.418737",
     "exception": false,
     "start_time": "2023-09-26T15:13:50.398297",
     "status": "completed"
    },
    "tags": []
   },
   "outputs": [],
   "source": [
    "scaler = StandardScaler()"
   ]
  },
  {
   "cell_type": "code",
   "execution_count": null,
   "id": "d498d211",
   "metadata": {
    "execution": {
     "iopub.execute_input": "2023-09-26T15:13:50.445620Z",
     "iopub.status.busy": "2023-09-26T15:13:50.444555Z",
     "iopub.status.idle": "2023-09-26T15:13:50.449125Z",
     "shell.execute_reply": "2023-09-26T15:13:50.448307Z"
    },
    "papermill": {
     "duration": 0.020089,
     "end_time": "2023-09-26T15:13:50.451172",
     "exception": false,
     "start_time": "2023-09-26T15:13:50.431083",
     "status": "completed"
    },
    "tags": []
   },
   "outputs": [],
   "source": [
    "knn = KNeighborsClassifier()"
   ]
  },
  {
   "cell_type": "code",
   "execution_count": null,
   "id": "f05b63c3",
   "metadata": {
    "execution": {
     "iopub.execute_input": "2023-09-26T15:13:50.478367Z",
     "iopub.status.busy": "2023-09-26T15:13:50.477634Z",
     "iopub.status.idle": "2023-09-26T15:13:50.482762Z",
     "shell.execute_reply": "2023-09-26T15:13:50.481249Z"
    },
    "papermill": {
     "duration": 0.021751,
     "end_time": "2023-09-26T15:13:50.485173",
     "exception": false,
     "start_time": "2023-09-26T15:13:50.463422",
     "status": "completed"
    },
    "tags": []
   },
   "outputs": [],
   "source": [
    "operations = [('scaler', scaler), ('knn', knn)]"
   ]
  },
  {
   "cell_type": "code",
   "execution_count": null,
   "id": "f7a3dcc3",
   "metadata": {
    "execution": {
     "iopub.execute_input": "2023-09-26T15:13:50.511631Z",
     "iopub.status.busy": "2023-09-26T15:13:50.511152Z",
     "iopub.status.idle": "2023-09-26T15:13:50.525263Z",
     "shell.execute_reply": "2023-09-26T15:13:50.523930Z"
    },
    "papermill": {
     "duration": 0.030454,
     "end_time": "2023-09-26T15:13:50.527948",
     "exception": false,
     "start_time": "2023-09-26T15:13:50.497494",
     "status": "completed"
    },
    "tags": []
   },
   "outputs": [],
   "source": [
    "from sklearn.pipeline import Pipeline"
   ]
  },
  {
   "cell_type": "code",
   "execution_count": null,
   "id": "921f0d15",
   "metadata": {
    "execution": {
     "iopub.execute_input": "2023-09-26T15:13:50.554480Z",
     "iopub.status.busy": "2023-09-26T15:13:50.554040Z",
     "iopub.status.idle": "2023-09-26T15:13:50.559141Z",
     "shell.execute_reply": "2023-09-26T15:13:50.557962Z"
    },
    "papermill": {
     "duration": 0.021163,
     "end_time": "2023-09-26T15:13:50.561530",
     "exception": false,
     "start_time": "2023-09-26T15:13:50.540367",
     "status": "completed"
    },
    "tags": []
   },
   "outputs": [],
   "source": [
    "pipe = Pipeline(operations)"
   ]
  },
  {
   "cell_type": "code",
   "execution_count": null,
   "id": "f445e9de",
   "metadata": {
    "execution": {
     "iopub.execute_input": "2023-09-26T15:13:50.588089Z",
     "iopub.status.busy": "2023-09-26T15:13:50.587277Z",
     "iopub.status.idle": "2023-09-26T15:13:50.592333Z",
     "shell.execute_reply": "2023-09-26T15:13:50.590935Z"
    },
    "papermill": {
     "duration": 0.021715,
     "end_time": "2023-09-26T15:13:50.595299",
     "exception": false,
     "start_time": "2023-09-26T15:13:50.573584",
     "status": "completed"
    },
    "tags": []
   },
   "outputs": [],
   "source": [
    "from sklearn.model_selection import GridSearchCV"
   ]
  },
  {
   "cell_type": "code",
   "execution_count": null,
   "id": "be17e818",
   "metadata": {
    "execution": {
     "iopub.execute_input": "2023-09-26T15:13:50.623058Z",
     "iopub.status.busy": "2023-09-26T15:13:50.622097Z",
     "iopub.status.idle": "2023-09-26T15:13:50.627775Z",
     "shell.execute_reply": "2023-09-26T15:13:50.626541Z"
    },
    "papermill": {
     "duration": 0.021826,
     "end_time": "2023-09-26T15:13:50.630212",
     "exception": false,
     "start_time": "2023-09-26T15:13:50.608386",
     "status": "completed"
    },
    "tags": []
   },
   "outputs": [],
   "source": [
    "k_values = list(range(1, 20))"
   ]
  },
  {
   "cell_type": "code",
   "execution_count": null,
   "id": "4e190063",
   "metadata": {
    "execution": {
     "iopub.execute_input": "2023-09-26T15:13:50.656562Z",
     "iopub.status.busy": "2023-09-26T15:13:50.656146Z",
     "iopub.status.idle": "2023-09-26T15:13:50.661068Z",
     "shell.execute_reply": "2023-09-26T15:13:50.659828Z"
    },
    "papermill": {
     "duration": 0.021257,
     "end_time": "2023-09-26T15:13:50.663795",
     "exception": false,
     "start_time": "2023-09-26T15:13:50.642538",
     "status": "completed"
    },
    "tags": []
   },
   "outputs": [],
   "source": [
    "param_grid = {'knn__n_neighbors':k_values}"
   ]
  },
  {
   "cell_type": "code",
   "execution_count": null,
   "id": "cf3bebe2",
   "metadata": {
    "execution": {
     "iopub.execute_input": "2023-09-26T15:13:50.690592Z",
     "iopub.status.busy": "2023-09-26T15:13:50.689840Z",
     "iopub.status.idle": "2023-09-26T15:13:50.695079Z",
     "shell.execute_reply": "2023-09-26T15:13:50.693886Z"
    },
    "papermill": {
     "duration": 0.021774,
     "end_time": "2023-09-26T15:13:50.697824",
     "exception": false,
     "start_time": "2023-09-26T15:13:50.676050",
     "status": "completed"
    },
    "tags": []
   },
   "outputs": [],
   "source": [
    "full_classifier = GridSearchCV(pipe, param_grid, cv=5, scoring='accuracy')"
   ]
  },
  {
   "cell_type": "code",
   "execution_count": null,
   "id": "e5e96180",
   "metadata": {
    "execution": {
     "iopub.execute_input": "2023-09-26T15:13:50.724736Z",
     "iopub.status.busy": "2023-09-26T15:13:50.723911Z",
     "iopub.status.idle": "2023-09-26T15:13:52.560063Z",
     "shell.execute_reply": "2023-09-26T15:13:52.558816Z"
    },
    "papermill": {
     "duration": 1.852512,
     "end_time": "2023-09-26T15:13:52.562744",
     "exception": false,
     "start_time": "2023-09-26T15:13:50.710232",
     "status": "completed"
    },
    "tags": []
   },
   "outputs": [],
   "source": [
    "full_classifier.fit(X_train, y_train)"
   ]
  },
  {
   "cell_type": "code",
   "execution_count": null,
   "id": "0a3c788f",
   "metadata": {
    "execution": {
     "iopub.execute_input": "2023-09-26T15:13:52.591219Z",
     "iopub.status.busy": "2023-09-26T15:13:52.590531Z",
     "iopub.status.idle": "2023-09-26T15:13:52.600149Z",
     "shell.execute_reply": "2023-09-26T15:13:52.598836Z"
    },
    "papermill": {
     "duration": 0.02709,
     "end_time": "2023-09-26T15:13:52.602778",
     "exception": false,
     "start_time": "2023-09-26T15:13:52.575688",
     "status": "completed"
    },
    "tags": []
   },
   "outputs": [],
   "source": [
    "full_classifier.best_estimator_.get_params()"
   ]
  },
  {
   "cell_type": "code",
   "execution_count": null,
   "id": "0d4e84fd",
   "metadata": {
    "execution": {
     "iopub.execute_input": "2023-09-26T15:13:52.630499Z",
     "iopub.status.busy": "2023-09-26T15:13:52.630085Z",
     "iopub.status.idle": "2023-09-26T15:13:52.659200Z",
     "shell.execute_reply": "2023-09-26T15:13:52.657949Z"
    },
    "papermill": {
     "duration": 0.046506,
     "end_time": "2023-09-26T15:13:52.662115",
     "exception": false,
     "start_time": "2023-09-26T15:13:52.615609",
     "status": "completed"
    },
    "tags": []
   },
   "outputs": [],
   "source": [
    "y_pred = full_classifier.predict(X_test)"
   ]
  },
  {
   "cell_type": "code",
   "execution_count": null,
   "id": "bcd0c6df",
   "metadata": {
    "execution": {
     "iopub.execute_input": "2023-09-26T15:13:52.690175Z",
     "iopub.status.busy": "2023-09-26T15:13:52.689681Z",
     "iopub.status.idle": "2023-09-26T15:13:52.696093Z",
     "shell.execute_reply": "2023-09-26T15:13:52.694208Z"
    },
    "papermill": {
     "duration": 0.023998,
     "end_time": "2023-09-26T15:13:52.699151",
     "exception": false,
     "start_time": "2023-09-26T15:13:52.675153",
     "status": "completed"
    },
    "tags": []
   },
   "outputs": [],
   "source": [
    "from sklearn.metrics import confusion_matrix, classification_report, accuracy_score"
   ]
  },
  {
   "cell_type": "code",
   "execution_count": null,
   "id": "bb78cd34",
   "metadata": {
    "execution": {
     "iopub.execute_input": "2023-09-26T15:13:52.732100Z",
     "iopub.status.busy": "2023-09-26T15:13:52.731151Z",
     "iopub.status.idle": "2023-09-26T15:13:52.740839Z",
     "shell.execute_reply": "2023-09-26T15:13:52.739590Z"
    },
    "papermill": {
     "duration": 0.030919,
     "end_time": "2023-09-26T15:13:52.743233",
     "exception": false,
     "start_time": "2023-09-26T15:13:52.712314",
     "status": "completed"
    },
    "tags": []
   },
   "outputs": [],
   "source": [
    "accuracy_score(y_test, y_pred)"
   ]
  },
  {
   "cell_type": "code",
   "execution_count": null,
   "id": "56eb0ceb",
   "metadata": {
    "execution": {
     "iopub.execute_input": "2023-09-26T15:13:52.771778Z",
     "iopub.status.busy": "2023-09-26T15:13:52.771165Z",
     "iopub.status.idle": "2023-09-26T15:13:52.781989Z",
     "shell.execute_reply": "2023-09-26T15:13:52.780844Z"
    },
    "papermill": {
     "duration": 0.028082,
     "end_time": "2023-09-26T15:13:52.784527",
     "exception": false,
     "start_time": "2023-09-26T15:13:52.756445",
     "status": "completed"
    },
    "tags": []
   },
   "outputs": [],
   "source": [
    "confusion_matrix(y_test, y_pred)"
   ]
  },
  {
   "cell_type": "code",
   "execution_count": null,
   "id": "b029893c",
   "metadata": {
    "execution": {
     "iopub.execute_input": "2023-09-26T15:13:52.812642Z",
     "iopub.status.busy": "2023-09-26T15:13:52.812169Z",
     "iopub.status.idle": "2023-09-26T15:13:52.826808Z",
     "shell.execute_reply": "2023-09-26T15:13:52.825379Z"
    },
    "papermill": {
     "duration": 0.032714,
     "end_time": "2023-09-26T15:13:52.830105",
     "exception": false,
     "start_time": "2023-09-26T15:13:52.797391",
     "status": "completed"
    },
    "tags": []
   },
   "outputs": [],
   "source": [
    "print(classification_report(y_test, y_pred))"
   ]
  }
 ],
 "metadata": {
  "kernelspec": {
   "display_name": "Python 3 (ipykernel)",
   "language": "python",
   "name": "python3"
  },
  "language_info": {
   "codemirror_mode": {
    "name": "ipython",
    "version": 3
   },
   "file_extension": ".py",
   "mimetype": "text/x-python",
   "name": "python",
   "nbconvert_exporter": "python",
   "pygments_lexer": "ipython3",
   "version": "3.12.0"
  },
  "papermill": {
   "default_parameters": {},
   "duration": 10.920556,
   "end_time": "2023-09-26T15:13:53.568010",
   "environment_variables": {},
   "exception": null,
   "input_path": "__notebook__.ipynb",
   "output_path": "__notebook__.ipynb",
   "parameters": {},
   "start_time": "2023-09-26T15:13:42.647454",
   "version": "2.4.0"
  }
 },
 "nbformat": 4,
 "nbformat_minor": 5
}
