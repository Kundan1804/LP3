{
 "cells": [
  {
   "cell_type": "code",
   "execution_count": null,
   "metadata": {
    "id": "1oX4nxaU-Ffk"
   },
   "outputs": [],
   "source": [
    "import pandas as pd\n",
    "import numpy as np\n",
    "import seaborn as sns\n",
    "import matplotlib.pyplot as plt\n",
    "import zipfile\n",
    "import cv2\n",
    "import plotly.express as px\n",
    "\n",
    "\n",
    "from sklearn.preprocessing import StandardScaler, normalize\n",
    "from sklearn.cluster import KMeans\n",
    "\n",
    "%matplotlib inline"
   ]
  },
  {
   "cell_type": "code",
   "execution_count": null,
   "metadata": {
    "colab": {
     "base_uri": "https://localhost:8080/",
     "height": 404
    },
    "executionInfo": {
     "elapsed": 669,
     "status": "ok",
     "timestamp": 1662352391762,
     "user": {
      "displayName": "Ashwini J",
      "userId": "03123207896631239593"
     },
     "user_tz": -330
    },
    "id": "dsNpZO-i-Ffm",
    "outputId": "6aaa549f-70a9-453d-9c56-14dec82ec326"
   },
   "outputs": [],
   "source": [
    "df = pd.read_csv('sales_data_sample.csv', encoding = 'unicode_escape', parse_dates=['ORDERDATE'])\n",
    "df.head()"
   ]
  },
  {
   "cell_type": "code",
   "execution_count": null,
   "metadata": {
    "colab": {
     "base_uri": "https://localhost:8080/"
    },
    "executionInfo": {
     "elapsed": 41,
     "status": "ok",
     "timestamp": 1662352391770,
     "user": {
      "displayName": "Ashwini J",
      "userId": "03123207896631239593"
     },
     "user_tz": -330
    },
    "id": "dCcKl6jp-Ffq",
    "outputId": "fb282a75-6597-450c-fa90-97e6569ff913"
   },
   "outputs": [],
   "source": [
    "df.isnull().sum()"
   ]
  },
  {
   "cell_type": "code",
   "execution_count": null,
   "metadata": {
    "colab": {
     "base_uri": "https://localhost:8080/",
     "height": 259
    },
    "executionInfo": {
     "elapsed": 37,
     "status": "ok",
     "timestamp": 1662352391771,
     "user": {
      "displayName": "Ashwini J",
      "userId": "03123207896631239593"
     },
     "user_tz": -330
    },
    "id": "P8QwyA3O-Ffr",
    "outputId": "f24fd51e-8fad-4c45-8283-a08512bf105c"
   },
   "outputs": [],
   "source": [
    "df_drop  = ['ADDRESSLINE1', 'ADDRESSLINE2', 'POSTALCODE', 'CITY', 'TERRITORY', 'PHONE', 'STATE', 'CONTACTFIRSTNAME', 'CONTACTLASTNAME', 'CUSTOMERNAME', 'ORDERNUMBER']\n",
    "df = df.drop(df_drop, axis=1)\n",
    "df.head(3)"
   ]
  },
  {
   "cell_type": "markdown",
   "metadata": {
    "id": "hg3T2mz--Ffs"
   },
   "source": [
    "#### Drop georaphic features and names, phone"
   ]
  },
  {
   "cell_type": "code",
   "execution_count": null,
   "metadata": {
    "colab": {
     "base_uri": "https://localhost:8080/"
    },
    "executionInfo": {
     "elapsed": 37,
     "status": "ok",
     "timestamp": 1662352391772,
     "user": {
      "displayName": "Ashwini J",
      "userId": "03123207896631239593"
     },
     "user_tz": -330
    },
    "id": "qCASqKsD-Ffs",
    "outputId": "28575c0b-0fb4-4b3e-d369-861148ce13e6"
   },
   "outputs": [],
   "source": [
    "df.shape"
   ]
  },
  {
   "cell_type": "code",
   "execution_count": null,
   "metadata": {
    "colab": {
     "base_uri": "https://localhost:8080/"
    },
    "executionInfo": {
     "elapsed": 34,
     "status": "ok",
     "timestamp": 1662352391773,
     "user": {
      "displayName": "Ashwini J",
      "userId": "03123207896631239593"
     },
     "user_tz": -330
    },
    "id": "kkmY85MG-Fft",
    "outputId": "9cf602a1-ec91-4431-9126-61f07b351b8b"
   },
   "outputs": [],
   "source": [
    "df.isna().sum()"
   ]
  },
  {
   "cell_type": "code",
   "execution_count": null,
   "metadata": {
    "id": "jiN5YrwV-Ffu"
   },
   "outputs": [],
   "source": [
    "def barplot_visualization(x):\n",
    "  fig = plt.Figure(figsize = (12, 6))\n",
    "  fig = px.bar(x = df[x].value_counts().index, y = df[x].value_counts(), color = df[x].value_counts().index, height = 600)\n",
    "  fig.show();"
   ]
  },
  {
   "cell_type": "code",
   "execution_count": null,
   "metadata": {
    "colab": {
     "base_uri": "https://localhost:8080/",
     "height": 617
    },
    "executionInfo": {
     "elapsed": 1329,
     "status": "ok",
     "timestamp": 1662352393071,
     "user": {
      "displayName": "Ashwini J",
      "userId": "03123207896631239593"
     },
     "user_tz": -330
    },
    "id": "uEcV8Bz0-Ffu",
    "outputId": "59f1b608-990a-47d9-a13a-11c9641f0c2b"
   },
   "outputs": [],
   "source": [
    "barplot_visualization('COUNTRY')"
   ]
  },
  {
   "cell_type": "code",
   "execution_count": null,
   "metadata": {
    "colab": {
     "base_uri": "https://localhost:8080/",
     "height": 617
    },
    "executionInfo": {
     "elapsed": 56,
     "status": "ok",
     "timestamp": 1662352393073,
     "user": {
      "displayName": "Ashwini J",
      "userId": "03123207896631239593"
     },
     "user_tz": -330
    },
    "id": "4m6vRpMx-Ffv",
    "outputId": "0aa8d000-5a9c-4782-8733-8c640e087730"
   },
   "outputs": [],
   "source": [
    "barplot_visualization('STATUS');"
   ]
  },
  {
   "cell_type": "markdown",
   "metadata": {
    "id": "PkF3cdQS-Ffv"
   },
   "source": [
    "#### Drop unbalanced feature"
   ]
  },
  {
   "cell_type": "code",
   "execution_count": null,
   "metadata": {
    "id": "GTGT4CuB-Ffw"
   },
   "outputs": [],
   "source": [
    "df.drop(columns=['STATUS'], axis=1, inplace=True)"
   ]
  },
  {
   "cell_type": "code",
   "execution_count": null,
   "metadata": {
    "colab": {
     "base_uri": "https://localhost:8080/"
    },
    "executionInfo": {
     "elapsed": 53,
     "status": "ok",
     "timestamp": 1662352393075,
     "user": {
      "displayName": "Ashwini J",
      "userId": "03123207896631239593"
     },
     "user_tz": -330
    },
    "id": "1DLmM3Wz-Ffw",
    "outputId": "00f37c0c-5543-4137-f719-eba96312db7b"
   },
   "outputs": [],
   "source": [
    "print('Columns resume: ', df.shape[1])"
   ]
  },
  {
   "cell_type": "code",
   "execution_count": null,
   "metadata": {
    "colab": {
     "base_uri": "https://localhost:8080/"
    },
    "executionInfo": {
     "elapsed": 51,
     "status": "ok",
     "timestamp": 1662352393077,
     "user": {
      "displayName": "Ashwini J",
      "userId": "03123207896631239593"
     },
     "user_tz": -330
    },
    "id": "RRqix0sS-Ffw",
    "outputId": "c1cf7e89-71ad-4ffc-a956-df3ca49980bc"
   },
   "outputs": [],
   "source": [
    "barplot_visualization('PRODUCTLINE')"
   ]
  },
  {
   "cell_type": "code",
   "execution_count": null,
   "metadata": {
    "colab": {
     "base_uri": "https://localhost:8080/"
    },
    "executionInfo": {
     "elapsed": 50,
     "status": "ok",
     "timestamp": 1662352393078,
     "user": {
      "displayName": "Ashwini J",
      "userId": "03123207896631239593"
     },
     "user_tz": -330
    },
    "id": "4I1ta5P7-Ffx",
    "outputId": "c325e9af-46d3-4303-804f-02268e84ed9a"
   },
   "outputs": [],
   "source": [
    "barplot_visualization('DEALSIZE')"
   ]
  },
  {
   "cell_type": "markdown",
   "metadata": {
    "id": "Iatmf7W8-Ffx"
   },
   "source": [
    "### Prepare data"
   ]
  },
  {
   "cell_type": "code",
   "execution_count": null,
   "metadata": {
    "id": "8qEFFy3R-Ffx"
   },
   "outputs": [],
   "source": [
    "def dummies(x):\n",
    "  dummy = pd.get_dummies(df[x])\n",
    "  df.drop(columns=x, inplace=True)\n",
    "  return pd.concat([df, dummy], axis = 1)"
   ]
  },
  {
   "cell_type": "code",
   "execution_count": null,
   "metadata": {
    "id": "SFrhAVdg-Ffy"
   },
   "outputs": [],
   "source": [
    "df =  dummies('COUNTRY')"
   ]
  },
  {
   "cell_type": "code",
   "execution_count": null,
   "metadata": {
    "id": "QFx2EEv1-Ffy"
   },
   "outputs": [],
   "source": [
    "df =  dummies('PRODUCTLINE')"
   ]
  },
  {
   "cell_type": "code",
   "execution_count": null,
   "metadata": {
    "id": "kZZLtlhI-Ffz"
   },
   "outputs": [],
   "source": [
    "df =  dummies('DEALSIZE')"
   ]
  },
  {
   "cell_type": "code",
   "execution_count": null,
   "metadata": {
    "colab": {
     "base_uri": "https://localhost:8080/",
     "height": 421
    },
    "executionInfo": {
     "elapsed": 56,
     "status": "ok",
     "timestamp": 1662352393088,
     "user": {
      "displayName": "Ashwini J",
      "userId": "03123207896631239593"
     },
     "user_tz": -330
    },
    "id": "UYZta_ra-Ffz",
    "outputId": "31859124-07a0-4925-c057-f8ce29c76e20"
   },
   "outputs": [],
   "source": [
    "df.head()"
   ]
  },
  {
   "cell_type": "code",
   "execution_count": null,
   "metadata": {
    "colab": {
     "base_uri": "https://localhost:8080/"
    },
    "executionInfo": {
     "elapsed": 56,
     "status": "ok",
     "timestamp": 1662352393090,
     "user": {
      "displayName": "Ashwini J",
      "userId": "03123207896631239593"
     },
     "user_tz": -330
    },
    "id": "8Xra1dz_-Ffz",
    "outputId": "03c54d3c-f34a-493c-88c0-adc2fd8e864d"
   },
   "outputs": [],
   "source": [
    "y = pd.Categorical(df['PRODUCTCODE'])\n",
    "y"
   ]
  },
  {
   "cell_type": "markdown",
   "metadata": {
    "id": "E12mBiuc-Ff0"
   },
   "source": []
  },
  {
   "cell_type": "code",
   "execution_count": null,
   "metadata": {
    "id": "ZXZIsLAQ-Ff0"
   },
   "outputs": [],
   "source": [
    "df['PRODUCTCODE'] = pd.Categorical(df['PRODUCTCODE']).codes"
   ]
  },
  {
   "cell_type": "code",
   "execution_count": null,
   "metadata": {
    "colab": {
     "base_uri": "https://localhost:8080/",
     "height": 421
    },
    "executionInfo": {
     "elapsed": 476,
     "status": "ok",
     "timestamp": 1662352393515,
     "user": {
      "displayName": "Ashwini J",
      "userId": "03123207896631239593"
     },
     "user_tz": -330
    },
    "id": "x12ijBuJ-Ff0",
    "outputId": "84c0b432-dbed-4dd9-b2d4-6f0a6f2b65cd"
   },
   "outputs": [],
   "source": [
    "df.head()"
   ]
  },
  {
   "cell_type": "code",
   "execution_count": null,
   "metadata": {
    "colab": {
     "base_uri": "https://localhost:8080/",
     "height": 542
    },
    "executionInfo": {
     "elapsed": 27,
     "status": "ok",
     "timestamp": 1662352393517,
     "user": {
      "displayName": "Ashwini J",
      "userId": "03123207896631239593"
     },
     "user_tz": -330
    },
    "id": "EiDbMpuC-Ff1",
    "outputId": "f65bfaae-c493-44ec-bf77-9fe77af7c583"
   },
   "outputs": [],
   "source": [
    "df_group = df.groupby(by='ORDERDATE').sum()\n",
    "fig = px.line(x = df_group.index, y = df_group.SALES, title='sales_peak')\n",
    "fig.show();"
   ]
  },
  {
   "cell_type": "code",
   "execution_count": null,
   "metadata": {
    "id": "MkXdJ5D5-Ff1"
   },
   "outputs": [],
   "source": [
    "df.drop('ORDERDATE', axis=1, inplace=True)"
   ]
  },
  {
   "cell_type": "markdown",
   "metadata": {
    "id": "_izj2QSh-Ff1"
   },
   "source": [
    "#### drop 'ORDERDATE', 'QTR_ID' because we have 'MONTH' etc."
   ]
  },
  {
   "cell_type": "code",
   "execution_count": null,
   "metadata": {
    "id": "YzfgPuyt-Ff2"
   },
   "outputs": [],
   "source": [
    "df.drop('QTR_ID', axis=1, inplace=True)"
   ]
  },
  {
   "cell_type": "code",
   "execution_count": null,
   "metadata": {
    "colab": {
     "base_uri": "https://localhost:8080/"
    },
    "executionInfo": {
     "elapsed": 30,
     "status": "ok",
     "timestamp": 1662352393526,
     "user": {
      "displayName": "Ashwini J",
      "userId": "03123207896631239593"
     },
     "user_tz": -330
    },
    "id": "_CdgCYHD-Ff2",
    "outputId": "aea1572e-2ca8-437d-d333-3e2cf6fcbcb6"
   },
   "outputs": [],
   "source": [
    "df.shape"
   ]
  },
  {
   "cell_type": "markdown",
   "metadata": {
    "id": "Mi9ZkBod-Ff2"
   },
   "source": [
    "## Use K-MEANS algorithm"
   ]
  },
  {
   "cell_type": "code",
   "execution_count": null,
   "metadata": {
    "id": "BUcRz4lh-Ff3"
   },
   "outputs": [],
   "source": [
    "scaler =  StandardScaler()\n",
    "df_scaled = scaler.fit_transform(df)"
   ]
  },
  {
   "cell_type": "code",
   "execution_count": null,
   "metadata": {
    "id": "fpYY6GwF-Ff3"
   },
   "outputs": [],
   "source": [
    "scores = []\n",
    "range_values = range(1, 15)\n",
    "for i in range_values:\n",
    "  kmeans = KMeans(n_clusters = i)\n",
    "  kmeans.fit(df_scaled)\n",
    "  scores.append(kmeans.inertia_)"
   ]
  },
  {
   "cell_type": "code",
   "execution_count": null,
   "metadata": {
    "colab": {
     "base_uri": "https://localhost:8080/",
     "height": 295
    },
    "executionInfo": {
     "elapsed": 1079,
     "status": "ok",
     "timestamp": 1662352400186,
     "user": {
      "displayName": "Ashwini J",
      "userId": "03123207896631239593"
     },
     "user_tz": -330
    },
    "id": "U4jXBARm-Ff3",
    "outputId": "d3bf39f0-1a06-49bc-d96c-2dc1eb0f48ef"
   },
   "outputs": [],
   "source": [
    "plt.plot(scores, 'bx-')\n",
    "plt.title('Finding right number of clusters')\n",
    "plt.xlabel('Clusters')\n",
    "plt.ylabel('scores')\n",
    "plt.show();"
   ]
  },
  {
   "cell_type": "markdown",
   "metadata": {
    "id": "CVKw68bg-Ff4"
   },
   "source": [
    "#### The elbow method"
   ]
  },
  {
   "cell_type": "code",
   "execution_count": null,
   "metadata": {
    "colab": {
     "base_uri": "https://localhost:8080/"
    },
    "executionInfo": {
     "elapsed": 43,
     "status": "ok",
     "timestamp": 1662352400187,
     "user": {
      "displayName": "Ashwini J",
      "userId": "03123207896631239593"
     },
     "user_tz": -330
    },
    "id": "uaxgL3KY-Ff4",
    "outputId": "1ac37d4d-5be2-4db5-b70d-0d93e7fd1bdf"
   },
   "outputs": [],
   "source": [
    "kmeans = KMeans(4)\n",
    "kmeans.fit(df_scaled)"
   ]
  },
  {
   "cell_type": "code",
   "execution_count": null,
   "metadata": {
    "colab": {
     "base_uri": "https://localhost:8080/"
    },
    "executionInfo": {
     "elapsed": 38,
     "status": "ok",
     "timestamp": 1662352400189,
     "user": {
      "displayName": "Ashwini J",
      "userId": "03123207896631239593"
     },
     "user_tz": -330
    },
    "id": "MsPkg6IG-Ff4",
    "outputId": "5061535d-ff63-4a93-84f1-907e6501dd74"
   },
   "outputs": [],
   "source": [
    "labels = kmeans.labels_\n",
    "labels"
   ]
  },
  {
   "cell_type": "code",
   "execution_count": null,
   "metadata": {
    "colab": {
     "base_uri": "https://localhost:8080/"
    },
    "executionInfo": {
     "elapsed": 36,
     "status": "ok",
     "timestamp": 1662352400190,
     "user": {
      "displayName": "Ashwini J",
      "userId": "03123207896631239593"
     },
     "user_tz": -330
    },
    "id": "ua9C-tBe-Ff4",
    "outputId": "33b8a386-4e91-44b4-8df6-3b911fbce442"
   },
   "outputs": [],
   "source": [
    "kmeans.cluster_centers_.shape"
   ]
  },
  {
   "cell_type": "code",
   "execution_count": null,
   "metadata": {
    "colab": {
     "base_uri": "https://localhost:8080/",
     "height": 303
    },
    "executionInfo": {
     "elapsed": 33,
     "status": "ok",
     "timestamp": 1662352400191,
     "user": {
      "displayName": "Ashwini J",
      "userId": "03123207896631239593"
     },
     "user_tz": -330
    },
    "id": "4aKq3jHG-Ff5",
    "outputId": "49d4c518-44c5-467a-f093-580b98ea8cb0"
   },
   "outputs": [],
   "source": [
    "cluster_centers = pd.DataFrame(data = kmeans.cluster_centers_, columns= [df.columns])\n",
    "cluster_centers"
   ]
  },
  {
   "cell_type": "markdown",
   "metadata": {
    "id": "61Wpk-QH-Ff5"
   },
   "source": [
    "#### Invert the data"
   ]
  },
  {
   "cell_type": "code",
   "execution_count": null,
   "metadata": {
    "colab": {
     "base_uri": "https://localhost:8080/",
     "height": 355
    },
    "executionInfo": {
     "elapsed": 32,
     "status": "ok",
     "timestamp": 1662352400192,
     "user": {
      "displayName": "Ashwini J",
      "userId": "03123207896631239593"
     },
     "user_tz": -330
    },
    "id": "odIrU4Wg-Ff5",
    "outputId": "c331a23f-a722-4155-a6c4-280825c34a52"
   },
   "outputs": [],
   "source": [
    "cluster_centers = scaler.inverse_transform(cluster_centers)\n",
    "cluster_centers = pd.DataFrame(data=cluster_centers, columns=[df.columns])\n",
    "cluster_centers"
   ]
  },
  {
   "cell_type": "code",
   "execution_count": null,
   "metadata": {
    "colab": {
     "base_uri": "https://localhost:8080/",
     "height": 334
    },
    "executionInfo": {
     "elapsed": 31,
     "status": "ok",
     "timestamp": 1662352400194,
     "user": {
      "displayName": "Ashwini J",
      "userId": "03123207896631239593"
     },
     "user_tz": -330
    },
    "id": "RLsPOlKo-Ff6",
    "outputId": "89b62243-1528-4ccf-d39a-b809d4c3082a"
   },
   "outputs": [],
   "source": [
    "sales_of_cluster = pd.concat([df, pd.DataFrame({'cluster': labels})], axis=1)\n",
    "sales_of_cluster.head()"
   ]
  }
 ],
 "metadata": {
  "colab": {
   "provenance": []
  },
  "kernelspec": {
   "display_name": "Python 3 (ipykernel)",
   "language": "python",
   "name": "python3"
  },
  "language_info": {
   "codemirror_mode": {
    "name": "ipython",
    "version": 3
   },
   "file_extension": ".py",
   "mimetype": "text/x-python",
   "name": "python",
   "nbconvert_exporter": "python",
   "pygments_lexer": "ipython3",
   "version": "3.9.16"
  }
 },
 "nbformat": 4,
 "nbformat_minor": 1
}
